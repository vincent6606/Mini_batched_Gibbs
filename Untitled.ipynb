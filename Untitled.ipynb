{
 "cells": [
  {
   "cell_type": "code",
   "execution_count": 1,
   "metadata": {},
   "outputs": [
    {
     "data": {
      "image/png": "[encoded data removed]",
      "text/plain": [
       "<matplotlib.figure.Figure at 0x10392bfd0>"
      ]
     },
     "metadata": {},
     "output_type": "display_data"
    }
   ],
   "source": [
    "import numpy as np\n",
    "\n",
    "%matplotlib inline\n",
    "import matplotlib.pyplot as plt\n",
    "import seaborn as sns\n",
    "sns.set_context(\"paper\", font_scale=1.5)\n",
    "flatui = [\"#0a4d8c\", \"#ba0c2f\", \"#49a942\", \"#84a40b\", \"#004851\", \"#0095c8\", \"#4d2177\", \"#7c3a2d\"]\n",
    "# https://color.adobe.com/zh/create/color-wheel/?basfrom matplotlib import rc\n",
    "sns.palplot(flatui)"
   ]
  },
  {
   "cell_type": "code",
   "execution_count": 10,
   "metadata": {},
   "outputs": [
    {
     "name": "stderr",
     "output_type": "stream",
     "text": [
      "/Users/zhitingchen/anaconda/lib/python3.6/site-packages/ipykernel_launcher.py:1: UserWarning: genfromtxt: Empty input file: \"Ising_Indep_100_1000.0.csv\"\n",
      "  \"\"\"Entry point for launching an IPython kernel.\n"
     ]
    }
   ],
   "source": [
    "error = np.genfromtxt('Ising_Indep_100_1000.0.csv',delimiter=',')"
   ]
  },
  {
   "cell_type": "code",
   "execution_count": 11,
   "metadata": {},
   "outputs": [
    {
     "data": {
      "text/plain": [
       "(0,)"
      ]
     },
     "execution_count": 11,
     "metadata": {},
     "output_type": "execute_result"
    }
   ],
   "source": [
    "error.shape"
   ]
  },
  {
   "cell_type": "code",
   "execution_count": 12,
   "metadata": {},
   "outputs": [
    {
     "name": "stderr",
     "output_type": "stream",
     "text": [
      "/Users/zhitingchen/anaconda/lib/python3.6/site-packages/matplotlib/axes/_axes.py:545: UserWarning: No labelled objects found. Use label='...' kwarg on individual plots.\n",
      "  warnings.warn(\"No labelled objects found. \"\n"
     ]
    },
    {
     "data": {
      "image/png": "[encoded data removed]",
      "text/plain": [
       "<matplotlib.figure.Figure at 0x10fd08eb8>"
      ]
     },
     "metadata": {},
     "output_type": "display_data"
    }
   ],
   "source": [
    "import matplotlib.lines as lines\n",
    "with sns.axes_style(\"white\"):\n",
    "    fig = plt.figure(figsize=(8, 5.5))\n",
    "    ax  = fig.add_subplot(111)\n",
    "    for i in range(error.shape[0]):\n",
    "        line = error[i,1:]\n",
    "        plt.plot(line,color=flatui[i],label=\"$\\lambda = $ {0:.4f}\".format(error[i,0]))\n",
    "\n",
    "    plt.xlabel(\"iterations\", size=15)\n",
    "    plt.ylabel(\"Error in Marginals\", size=15)\n",
    "#     plt.title('50 by 50 Potts model')\n",
    "    plt.legend(loc='upper right')\n",
    "    plt.grid(linestyle='dotted')\n",
    "    plt.tight_layout(pad=1, w_pad=1, h_pad=1)\n",
    "\n",
    "    plt.savefig(\"Marginals_{}.pdf\".format('50'), bbox_inches='tight')\n",
    "    plt.show()"
   ]
  },
  {
   "cell_type": "code",
   "execution_count": null,
   "metadata": {
    "collapsed": true
   },
   "outputs": [],
   "source": []
  }
 ],
 "metadata": {
  "kernelspec": {
   "display_name": "Python 3",
   "language": "python",
   "name": "python3"
  },
  "language_info": {
   "codemirror_mode": {
    "name": "ipython",
    "version": 3
   },
   "file_extension": ".py",
   "mimetype": "text/x-python",
   "name": "python",
   "nbconvert_exporter": "python",
   "pygments_lexer": "ipython3",
   "version": "3.6.1"
  }
 },
 "nbformat": 4,
 "nbformat_minor": 2
}
